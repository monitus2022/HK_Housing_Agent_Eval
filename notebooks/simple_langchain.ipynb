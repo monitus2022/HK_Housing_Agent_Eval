{
 "cells": [
  {
   "cell_type": "code",
   "execution_count": 16,
   "id": "1486f900",
   "metadata": {},
   "outputs": [
    {
     "data": {
      "text/plain": [
       "True"
      ]
     },
     "execution_count": 16,
     "metadata": {},
     "output_type": "execute_result"
    }
   ],
   "source": [
    "from openai import OpenAI\n",
    "from dotenv import load_dotenv\n",
    "import os\n",
    "from pprint import pprint\n",
    "import time\n",
    "\n",
    "load_dotenv(\"../.env\")"
   ]
  },
  {
   "cell_type": "code",
   "execution_count": 19,
   "id": "3cdf7139",
   "metadata": {},
   "outputs": [],
   "source": [
    "# Timer function to measure execution time\n",
    "\n",
    "def timer(func):\n",
    "    def wrapper(*args, **kwargs):\n",
    "        start_time = time.time()\n",
    "        result = func(*args, **kwargs)\n",
    "        end_time = time.time()\n",
    "        print(f\"Execution time: {round(end_time - start_time, 2)} seconds\")\n",
    "        return result\n",
    "    return wrapper"
   ]
  },
  {
   "cell_type": "code",
   "execution_count": 22,
   "id": "fe903e22",
   "metadata": {},
   "outputs": [
    {
     "name": "stdout",
     "output_type": "stream",
     "text": [
      "Execution time: 1.8 seconds\n",
      "('As of my last update in April 2023, the President of the United States is '\n",
      " 'Joe Biden. He is the 46th President of the United States and has been in '\n",
      " 'office since January 20, 2021. However, please note that this information '\n",
      " 'may change over time, and for the most up-to-date information, I recommend '\n",
      " 'checking a reliable news source or the official website of the White House.')\n"
     ]
    }
   ],
   "source": [
    "# Prompt LLM via OpenRouter API \n",
    "\n",
    "@timer\n",
    "def prompt_llm(prompt: str, model: str = \"meta-llama/llama-3.3-8b-instruct:free\") -> str:\n",
    "    client = OpenAI(\n",
    "        base_url=\"https://openrouter.ai/api/v1\",\n",
    "        api_key=os.getenv(\"OPENROUTER_API_KEY\"),\n",
    "    )\n",
    "    if not client.api_key:\n",
    "        raise ValueError(\"OPENROUTER_API_KEY environment variable not set\")\n",
    "\n",
    "    completion = client.chat.completions.create(\n",
    "        model=model,\n",
    "        messages=[\n",
    "            {\n",
    "                \"role\": \"user\",\n",
    "                \"content\": prompt\n",
    "            }\n",
    "        ]\n",
    "    )\n",
    "    return completion.choices[0].message.content\n",
    "\n",
    "pprint(prompt_llm(\"What is the president of the USA?\"))\n"
   ]
  }
 ],
 "metadata": {
  "kernelspec": {
   "display_name": "env",
   "language": "python",
   "name": "python3"
  },
  "language_info": {
   "codemirror_mode": {
    "name": "ipython",
    "version": 3
   },
   "file_extension": ".py",
   "mimetype": "text/x-python",
   "name": "python",
   "nbconvert_exporter": "python",
   "pygments_lexer": "ipython3",
   "version": "3.12.2"
  }
 },
 "nbformat": 4,
 "nbformat_minor": 5
}
